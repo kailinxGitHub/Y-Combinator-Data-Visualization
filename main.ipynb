{
 "cells": [
  {
   "cell_type": "code",
   "execution_count": 26,
   "metadata": {},
   "outputs": [],
   "source": [
    "import numpy as np\n",
    "import pandas as pd"
   ]
  },
  {
   "cell_type": "code",
   "execution_count": 3,
   "metadata": {},
   "outputs": [
    {
     "data": {
      "text/html": [
       "<div>\n",
       "<style scoped>\n",
       "    .dataframe tbody tr th:only-of-type {\n",
       "        vertical-align: middle;\n",
       "    }\n",
       "\n",
       "    .dataframe tbody tr th {\n",
       "        vertical-align: top;\n",
       "    }\n",
       "\n",
       "    .dataframe thead th {\n",
       "        text-align: right;\n",
       "    }\n",
       "</style>\n",
       "<table border=\"1\" class=\"dataframe\">\n",
       "  <thead>\n",
       "    <tr style=\"text-align: right;\">\n",
       "      <th></th>\n",
       "      <th>Company</th>\n",
       "      <th>Categories</th>\n",
       "      <th>Y Combinator Year</th>\n",
       "      <th>Headquarters (City)</th>\n",
       "    </tr>\n",
       "  </thead>\n",
       "  <tbody>\n",
       "    <tr>\n",
       "      <th>0</th>\n",
       "      <td>Curebit</td>\n",
       "      <td>E-Commerce, Analytics, Internet, Marketing, So...</td>\n",
       "      <td>2011</td>\n",
       "      <td>San Francisco</td>\n",
       "    </tr>\n",
       "    <tr>\n",
       "      <th>1</th>\n",
       "      <td>Goldbely</td>\n",
       "      <td>Social, E-Commerce</td>\n",
       "      <td>2013</td>\n",
       "      <td>San Francisco</td>\n",
       "    </tr>\n",
       "    <tr>\n",
       "      <th>2</th>\n",
       "      <td>theDailyMuse</td>\n",
       "      <td>NaN</td>\n",
       "      <td>2012</td>\n",
       "      <td>New York City</td>\n",
       "    </tr>\n",
       "    <tr>\n",
       "      <th>3</th>\n",
       "      <td>Zencoder</td>\n",
       "      <td>SaaS, Cloud Computing, Audio, Web Development,...</td>\n",
       "      <td>2010</td>\n",
       "      <td>San Francisco</td>\n",
       "    </tr>\n",
       "    <tr>\n",
       "      <th>4</th>\n",
       "      <td>GinzaMetrics</td>\n",
       "      <td>Enterprises, E-Commerce, Analytics, SEO, Enter...</td>\n",
       "      <td>2010</td>\n",
       "      <td>San Francisco</td>\n",
       "    </tr>\n",
       "    <tr>\n",
       "      <th>...</th>\n",
       "      <td>...</td>\n",
       "      <td>...</td>\n",
       "      <td>...</td>\n",
       "      <td>...</td>\n",
       "    </tr>\n",
       "    <tr>\n",
       "      <th>683</th>\n",
       "      <td>MailGun</td>\n",
       "      <td>Services, Email, Messaging</td>\n",
       "      <td>2011</td>\n",
       "      <td>Mountain View</td>\n",
       "    </tr>\n",
       "    <tr>\n",
       "      <th>684</th>\n",
       "      <td>Balanced Payments</td>\n",
       "      <td>Peer-to-Peer, Mobile, Payments, E-Commerce</td>\n",
       "      <td>2011</td>\n",
       "      <td>San Francisco</td>\n",
       "    </tr>\n",
       "    <tr>\n",
       "      <th>685</th>\n",
       "      <td>Bridge</td>\n",
       "      <td>Public Relations</td>\n",
       "      <td>2011</td>\n",
       "      <td>Berkley</td>\n",
       "    </tr>\n",
       "    <tr>\n",
       "      <th>686</th>\n",
       "      <td>Clever</td>\n",
       "      <td>Big Data, Data Integration, Education</td>\n",
       "      <td>2012</td>\n",
       "      <td>San Francisco</td>\n",
       "    </tr>\n",
       "    <tr>\n",
       "      <th>687</th>\n",
       "      <td>ZeroCater</td>\n",
       "      <td>Hospitality</td>\n",
       "      <td>2011</td>\n",
       "      <td>San Francisco, New York City</td>\n",
       "    </tr>\n",
       "  </tbody>\n",
       "</table>\n",
       "<p>688 rows × 4 columns</p>\n",
       "</div>"
      ],
      "text/plain": [
       "               Company                                         Categories  \\\n",
       "0              Curebit  E-Commerce, Analytics, Internet, Marketing, So...   \n",
       "1             Goldbely                                 Social, E-Commerce   \n",
       "2         theDailyMuse                                                NaN   \n",
       "3             Zencoder  SaaS, Cloud Computing, Audio, Web Development,...   \n",
       "4         GinzaMetrics  Enterprises, E-Commerce, Analytics, SEO, Enter...   \n",
       "..                 ...                                                ...   \n",
       "683            MailGun                         Services, Email, Messaging   \n",
       "684  Balanced Payments         Peer-to-Peer, Mobile, Payments, E-Commerce   \n",
       "685             Bridge                                   Public Relations   \n",
       "686             Clever              Big Data, Data Integration, Education   \n",
       "687          ZeroCater                                        Hospitality   \n",
       "\n",
       "     Y Combinator Year           Headquarters (City)  \n",
       "0                 2011                 San Francisco  \n",
       "1                 2013                 San Francisco  \n",
       "2                 2012                 New York City  \n",
       "3                 2010                 San Francisco  \n",
       "4                 2010                 San Francisco  \n",
       "..                 ...                           ...  \n",
       "683               2011                 Mountain View  \n",
       "684               2011                 San Francisco  \n",
       "685               2011                       Berkley  \n",
       "686               2012                 San Francisco  \n",
       "687               2011  San Francisco, New York City  \n",
       "\n",
       "[688 rows x 4 columns]"
      ]
     },
     "execution_count": 3,
     "metadata": {},
     "output_type": "execute_result"
    }
   ],
   "source": [
    "#preparing the data\n",
    "data_file  = 'raw_data/Startups.csv'\n",
    "\n",
    "y_full = pd.read_csv(data_file)\n",
    "\n",
    "needed_columns = ['Company','Categories','Y Combinator Year', 'Headquarters (City)']\n",
    "y = y_full[needed_columns]\n",
    "y"
   ]
  },
  {
   "cell_type": "code",
   "execution_count": 4,
   "metadata": {},
   "outputs": [
    {
     "data": {
      "text/html": [
       "<div>\n",
       "<style scoped>\n",
       "    .dataframe tbody tr th:only-of-type {\n",
       "        vertical-align: middle;\n",
       "    }\n",
       "\n",
       "    .dataframe tbody tr th {\n",
       "        vertical-align: top;\n",
       "    }\n",
       "\n",
       "    .dataframe thead th {\n",
       "        text-align: right;\n",
       "    }\n",
       "</style>\n",
       "<table border=\"1\" class=\"dataframe\">\n",
       "  <thead>\n",
       "    <tr style=\"text-align: right;\">\n",
       "      <th></th>\n",
       "      <th>Company</th>\n",
       "      <th>Categories</th>\n",
       "    </tr>\n",
       "  </thead>\n",
       "  <tbody>\n",
       "    <tr>\n",
       "      <th>0</th>\n",
       "      <td>Curebit</td>\n",
       "      <td>E-Commerce, Analytics, Internet, Marketing, So...</td>\n",
       "    </tr>\n",
       "    <tr>\n",
       "      <th>1</th>\n",
       "      <td>Goldbely</td>\n",
       "      <td>Social, E-Commerce</td>\n",
       "    </tr>\n",
       "    <tr>\n",
       "      <th>2</th>\n",
       "      <td>theDailyMuse</td>\n",
       "      <td>NaN</td>\n",
       "    </tr>\n",
       "    <tr>\n",
       "      <th>3</th>\n",
       "      <td>Zencoder</td>\n",
       "      <td>SaaS, Cloud Computing, Audio, Web Development,...</td>\n",
       "    </tr>\n",
       "    <tr>\n",
       "      <th>4</th>\n",
       "      <td>GinzaMetrics</td>\n",
       "      <td>Enterprises, E-Commerce, Analytics, SEO, Enter...</td>\n",
       "    </tr>\n",
       "    <tr>\n",
       "      <th>...</th>\n",
       "      <td>...</td>\n",
       "      <td>...</td>\n",
       "    </tr>\n",
       "    <tr>\n",
       "      <th>683</th>\n",
       "      <td>MailGun</td>\n",
       "      <td>Services, Email, Messaging</td>\n",
       "    </tr>\n",
       "    <tr>\n",
       "      <th>684</th>\n",
       "      <td>Balanced Payments</td>\n",
       "      <td>Peer-to-Peer, Mobile, Payments, E-Commerce</td>\n",
       "    </tr>\n",
       "    <tr>\n",
       "      <th>685</th>\n",
       "      <td>Bridge</td>\n",
       "      <td>Public Relations</td>\n",
       "    </tr>\n",
       "    <tr>\n",
       "      <th>686</th>\n",
       "      <td>Clever</td>\n",
       "      <td>Big Data, Data Integration, Education</td>\n",
       "    </tr>\n",
       "    <tr>\n",
       "      <th>687</th>\n",
       "      <td>ZeroCater</td>\n",
       "      <td>Hospitality</td>\n",
       "    </tr>\n",
       "  </tbody>\n",
       "</table>\n",
       "<p>688 rows × 2 columns</p>\n",
       "</div>"
      ],
      "text/plain": [
       "               Company                                         Categories\n",
       "0              Curebit  E-Commerce, Analytics, Internet, Marketing, So...\n",
       "1             Goldbely                                 Social, E-Commerce\n",
       "2         theDailyMuse                                                NaN\n",
       "3             Zencoder  SaaS, Cloud Computing, Audio, Web Development,...\n",
       "4         GinzaMetrics  Enterprises, E-Commerce, Analytics, SEO, Enter...\n",
       "..                 ...                                                ...\n",
       "683            MailGun                         Services, Email, Messaging\n",
       "684  Balanced Payments         Peer-to-Peer, Mobile, Payments, E-Commerce\n",
       "685             Bridge                                   Public Relations\n",
       "686             Clever              Big Data, Data Integration, Education\n",
       "687          ZeroCater                                        Hospitality\n",
       "\n",
       "[688 rows x 2 columns]"
      ]
     },
     "execution_count": 4,
     "metadata": {},
     "output_type": "execute_result"
    }
   ],
   "source": [
    "ycat = pd.DataFrame(y, columns=['Company','Categories'])\n",
    "ycat"
   ]
  },
  {
   "cell_type": "code",
   "execution_count": 8,
   "metadata": {},
   "outputs": [
    {
     "data": {
      "text/plain": [
       "<AxesSubplot:>"
      ]
     },
     "execution_count": 8,
     "metadata": {},
     "output_type": "execute_result"
    },
    {
     "data": {
      "image/png": "[encoded data removed]",
      "text/plain": [
       "<Figure size 432x288 with 1 Axes>"
      ]
     },
     "metadata": {
      "needs_background": "light"
     },
     "output_type": "display_data"
    }
   ],
   "source": [
    "#group by categories\n",
    "y['Categories'].value_counts()[:5].plot(kind='bar')"
   ]
  },
  {
   "cell_type": "code",
   "execution_count": 27,
   "metadata": {},
   "outputs": [
    {
     "data": {
      "text/plain": [
       "<AxesSubplot:ylabel='Y Combinator Year'>"
      ]
     },
     "execution_count": 27,
     "metadata": {},
     "output_type": "execute_result"
    },
    {
     "data": {
      "image/png": "[encoded data removed]",
      "text/plain": [
       "<Figure size 432x288 with 1 Axes>"
      ]
     },
     "metadata": {},
     "output_type": "display_data"
    }
   ],
   "source": [
    "y['Y Combinator Year'].value_counts()[:5].plot.pie()"
   ]
  }
 ],
 "metadata": {
  "kernelspec": {
   "display_name": "Python 3.10.4 64-bit",
   "language": "python",
   "name": "python3"
  },
  "language_info": {
   "codemirror_mode": {
    "name": "ipython",
    "version": 3
   },
   "file_extension": ".py",
   "mimetype": "text/x-python",
   "name": "python",
   "nbconvert_exporter": "python",
   "pygments_lexer": "ipython3",
   "version": "3.10.4"
  },
  "orig_nbformat": 4,
  "vscode": {
   "interpreter": {
    "hash": "aee8b7b246df8f9039afb4144a1f6fd8d2ca17a180786b69acc140d282b71a49"
   }
  }
 },
 "nbformat": 4,
 "nbformat_minor": 2
}
